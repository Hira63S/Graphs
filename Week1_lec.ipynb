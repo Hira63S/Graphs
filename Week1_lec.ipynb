{
 "cells": [
  {
   "cell_type": "markdown",
   "metadata": {},
   "source": [
    "# Graphs\n",
    "\n",
    "A collection of data that represents data by nodes and connections between those nodes.\n",
    "\n",
    "### Components\n",
    "\n",
    "#### Nodes or vertices:\n",
    "represent objects in a data set(cities, animals, web pages)\n",
    "#### edges: \n",
    "connections between vertices; can be bidirectional\n",
    "#### weight:\n",
    "cost to travel across an edge\n",
    "\n",
    "Contains nodes information as well as edges.\n",
    "Edges have weights that show the connections between vertices.\n",
    "\n",
    "nodes = {V0, V1, V2, V3, V4, V5}\n",
    "edges = {(V1, V2, 3), (V2, V3, 4), (V3, V4, 5), (V3, V5, 9)} etc.\n",
    "3, 4, 5, 9 are the edges\n",
    "\n",
    "## Directed graphs:\n",
    "- We can only move across the edges in one direction and is indicated by an arrow.\n",
    "\n",
    "## Undirected graph:\n",
    "- allows movement in both directions long edges (doubly linked list?)\n",
    "\n",
    "## Cyclic:\n",
    "- Edges allow you to revisit at least one vert\n",
    "## Acyclic:\n",
    "- vertices can only be visited once\n",
    "\n",
    "#### How Graphs differ from other data structures:\n",
    "There are no restrictions with graphs i.e. no concept of a \"Root\" node. Nodes can be connected in any way possible. \n",
    "Graph also don't have a concept of \"one-directional\" flow. They might have direction or they might have no direction.\n",
    "\n",
    "Graphs need to have, at the very least, one single node. A graph with one node is referred to as \"Singleton Graph\". \n",
    "\n",
    "## Directed Graphs and Undirected Graphs\n",
    "Graphs differ in the types of edges they have.\n",
    "Some graphs can have an edge that has a direction or flow or an edge that has no direction or flow. \n",
    "\n",
    "In directed edge, two nodes are connected in a very specific way i.e. one direction and we can see the origin and the destination. We can only travel from the origin to the destination. \n",
    "\n",
    "In an indirection edge, we can travel both ways i.e. the connection between the two nodes is bidirectional. \n",
    "\n",
    "### Directed Graph or Digraph:\n",
    "All the edges in the graph are directed. \n",
    "### Undirected Graph:\n",
    "All the edges in a graph are undirected.\n",
    "\n",
    "As the concept of graphs is borrowed from math, in light of the (x,y) representation of graphs in math, we represent them as:\n",
    "G = (V, E)   # where V is for vertices and E is for edges\n",
    "\n",
    "Since V and E are set of vertices, we will represent them as Sets:\n",
    "V = {V1, V2, V3, V4, V5, V6, V7, V8, V9, V10}\n",
    "E = {{V1, V2}, {V2, V3}, {V1, V4}, {V2, V4}, ....}\n",
    "Here, order of the nodes does not matter. \n"
   ]
  },
  {
   "cell_type": "code",
   "execution_count": null,
   "metadata": {},
   "outputs": [],
   "source": []
  },
  {
   "cell_type": "code",
   "execution_count": null,
   "metadata": {},
   "outputs": [],
   "source": []
  },
  {
   "cell_type": "code",
   "execution_count": null,
   "metadata": {},
   "outputs": [],
   "source": []
  }
 ],
 "metadata": {
  "kernelspec": {
   "display_name": "Python 3",
   "language": "python",
   "name": "python3"
  },
  "language_info": {
   "codemirror_mode": {
    "name": "ipython",
    "version": 3
   },
   "file_extension": ".py",
   "mimetype": "text/x-python",
   "name": "python",
   "nbconvert_exporter": "python",
   "pygments_lexer": "ipython3",
   "version": "3.7.3"
  }
 },
 "nbformat": 4,
 "nbformat_minor": 2
}
