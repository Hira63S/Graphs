{
 "cells": [
  {
   "cell_type": "code",
   "execution_count": 1,
   "metadata": {},
   "outputs": [],
   "source": [
    "from room import Room\n",
    "from player import Player\n",
    "from world import World\n",
    "\n",
    "import random\n",
    "from ast import literal_eval\n",
    "from room import Room\n",
    "import random\n",
    "import math\n"
   ]
  },
  {
   "cell_type": "code",
   "execution_count": 2,
   "metadata": {},
   "outputs": [],
   "source": [
    "world = World()"
   ]
  },
  {
   "cell_type": "code",
   "execution_count": 3,
   "metadata": {},
   "outputs": [],
   "source": [
    "map_file = \"maps/test_cross.txt\""
   ]
  },
  {
   "cell_type": "code",
   "execution_count": 4,
   "metadata": {},
   "outputs": [
    {
     "name": "stdout",
     "output_type": "stream",
     "text": [
      "#####\n",
      "#                                        #\n",
      "#                002                     #\n",
      "#                 |                      #\n",
      "#                 |                      #\n",
      "#                001                     #\n",
      "#                 |                      #\n",
      "#                 |                      #\n",
      "#      008--007--000--003--004           #\n",
      "#                 |                      #\n",
      "#                 |                      #\n",
      "#                005                     #\n",
      "#                 |                      #\n",
      "#                 |                      #\n",
      "#                006                     #\n",
      "#                                        #\n",
      "\n",
      "#####\n"
     ]
    }
   ],
   "source": [
    "room_graph=literal_eval(open(map_file, \"r\").read())\n",
    "world.load_graph(room_graph)\n",
    "\n",
    "# Print an ASCII map\n",
    "world.print_rooms()\n",
    "\n",
    "player = Player(world.starting_room)"
   ]
  },
  {
   "cell_type": "code",
   "execution_count": 6,
   "metadata": {},
   "outputs": [],
   "source": [
    "# supposed to have:\n",
    "# traversal_path = ['n', 'n']\n",
    "\n",
    "traversal_path = []\n",
    "\n",
    "# so everytime we go to a room that has not been visited and we change the label of \n",
    "# one of it's directions to \"?\", we store that direcction move in the traversal_path\n",
    "# soooo....we could have as many as 1000 traversals\n",
    "\n",
    "# NOW, we limit the number of traversal with BFS and DFT\n",
    "\n"
   ]
  },
  {
   "cell_type": "code",
   "execution_count": 7,
   "metadata": {},
   "outputs": [
    {
     "name": "stdout",
     "output_type": "stream",
     "text": [
      "TESTS FAILED: INCOMPLETE TRAVERSAL\n",
      "8 unvisited rooms\n",
      "\n",
      "-------------------\n",
      "\n",
      "Room 0\n",
      "\n",
      "   (3,5)\n",
      "\n",
      "Exits: [n, s, w, e]\n",
      "\n"
     ]
    },
    {
     "name": "stdin",
     "output_type": "stream",
     "text": [
      "->  n\n"
     ]
    },
    {
     "name": "stdout",
     "output_type": "stream",
     "text": [
      "\n",
      "-------------------\n",
      "\n",
      "Room 1\n",
      "\n",
      "   (3,6)\n",
      "\n",
      "Exits: [n, s]\n",
      "\n"
     ]
    },
    {
     "name": "stdin",
     "output_type": "stream",
     "text": [
      "->  s\n"
     ]
    },
    {
     "name": "stdout",
     "output_type": "stream",
     "text": [
      "\n",
      "-------------------\n",
      "\n",
      "Room 0\n",
      "\n",
      "   (3,5)\n",
      "\n",
      "Exits: [n, s, w, e]\n",
      "\n"
     ]
    },
    {
     "name": "stdin",
     "output_type": "stream",
     "text": [
      "->  w\n"
     ]
    },
    {
     "name": "stdout",
     "output_type": "stream",
     "text": [
      "\n",
      "-------------------\n",
      "\n",
      "Room 7\n",
      "\n",
      "   (2,5)\n",
      "\n",
      "Exits: [w, e]\n",
      "\n"
     ]
    },
    {
     "name": "stdin",
     "output_type": "stream",
     "text": [
      "->  c\\\n"
     ]
    },
    {
     "name": "stdout",
     "output_type": "stream",
     "text": [
      "I did not understand that command.\n"
     ]
    },
    {
     "name": "stdin",
     "output_type": "stream",
     "text": [
      "->  q\n"
     ]
    }
   ],
   "source": [
    "# TRAVERSAL TEST\n",
    "visited_rooms = set()\n",
    "player.current_room = world.starting_room\n",
    "visited_rooms.add(player.current_room)\n",
    "\n",
    "for move in traversal_path:\n",
    "    player.travel(move)\n",
    "    visited_rooms.add(player.current_room)\n",
    "\n",
    "if len(visited_rooms) == len(room_graph):\n",
    "    print(f\"TESTS PASSED: {len(traversal_path)} moves, {len(visited_rooms)} rooms visited\")\n",
    "else:\n",
    "    print(\"TESTS FAILED: INCOMPLETE TRAVERSAL\")\n",
    "    print(f\"{len(room_graph) - len(visited_rooms)} unvisited rooms\")\n",
    "\n",
    "\n",
    "\n",
    "#######\n",
    "# UNCOMMENT TO WALK AROUND\n",
    "#######\n",
    "player.current_room.print_room_description(player)\n",
    "while True:\n",
    "    cmds = input(\"-> \").lower().split(\" \")\n",
    "    if cmds[0] in [\"n\", \"s\", \"e\", \"w\"]:\n",
    "        player.travel(cmds[0], True)\n",
    "    elif cmds[0] == \"q\":\n",
    "        break\n",
    "    else:\n",
    "        print(\"I did not understand that command.\")\n",
    "\n"
   ]
  },
  {
   "cell_type": "code",
   "execution_count": 34,
   "metadata": {},
   "outputs": [
    {
     "data": {
      "text/plain": [
       "['w', 'e']"
      ]
     },
     "execution_count": 34,
     "metadata": {},
     "output_type": "execute_result"
    }
   ],
   "source": [
    "player.current_room.get_exits()\n"
   ]
  },
  {
   "cell_type": "code",
   "execution_count": 33,
   "metadata": {},
   "outputs": [],
   "source": [
    "player.travel('e')"
   ]
  },
  {
   "cell_type": "code",
   "execution_count": 20,
   "metadata": {},
   "outputs": [
    {
     "data": {
      "text/plain": [
       "['e']"
      ]
     },
     "execution_count": 20,
     "metadata": {},
     "output_type": "execute_result"
    }
   ],
   "source": [
    "player.current_room.get_exits()"
   ]
  },
  {
   "cell_type": "code",
   "execution_count": 19,
   "metadata": {},
   "outputs": [
    {
     "data": {
      "text/plain": [
       "8"
      ]
     },
     "execution_count": 19,
     "metadata": {},
     "output_type": "execute_result"
    }
   ],
   "source": [
    "player.current_room.id"
   ]
  },
  {
   "cell_type": "code",
   "execution_count": 47,
   "metadata": {},
   "outputs": [
    {
     "ename": "TypeError",
     "evalue": "'list' object cannot be interpreted as an integer",
     "output_type": "error",
     "traceback": [
      "\u001b[1;31m---------------------------------------------------------------------------\u001b[0m",
      "\u001b[1;31mTypeError\u001b[0m                                 Traceback (most recent call last)",
      "\u001b[1;32m<ipython-input-47-546bfbd8350f>\u001b[0m in \u001b[0;36m<module>\u001b[1;34m\u001b[0m\n\u001b[0;32m      2\u001b[0m \u001b[0mdictionary\u001b[0m \u001b[1;33m=\u001b[0m \u001b[1;33m{\u001b[0m\u001b[1;33m}\u001b[0m\u001b[1;33m\u001b[0m\u001b[1;33m\u001b[0m\u001b[0m\n\u001b[0;32m      3\u001b[0m \u001b[0mdictionary\u001b[0m\u001b[1;33m[\u001b[0m\u001b[0mplayer\u001b[0m\u001b[1;33m.\u001b[0m\u001b[0mcurrent_room\u001b[0m\u001b[1;33m.\u001b[0m\u001b[0mid\u001b[0m\u001b[1;33m]\u001b[0m \u001b[1;33m=\u001b[0m \u001b[1;33m{\u001b[0m\u001b[1;33m}\u001b[0m\u001b[1;33m\u001b[0m\u001b[1;33m\u001b[0m\u001b[0m\n\u001b[1;32m----> 4\u001b[1;33m \u001b[1;32mfor\u001b[0m \u001b[0md\u001b[0m \u001b[1;32min\u001b[0m \u001b[0mrange\u001b[0m\u001b[1;33m(\u001b[0m\u001b[0mplayer\u001b[0m\u001b[1;33m.\u001b[0m\u001b[0mcurrent_room\u001b[0m\u001b[1;33m.\u001b[0m\u001b[0mget_exits\u001b[0m\u001b[1;33m(\u001b[0m\u001b[1;33m)\u001b[0m\u001b[1;33m)\u001b[0m\u001b[1;33m:\u001b[0m\u001b[1;33m\u001b[0m\u001b[1;33m\u001b[0m\u001b[0m\n\u001b[0m\u001b[0;32m      5\u001b[0m     \u001b[0mprint\u001b[0m\u001b[1;33m(\u001b[0m\u001b[0md\u001b[0m\u001b[1;33m)\u001b[0m\u001b[1;33m\u001b[0m\u001b[1;33m\u001b[0m\u001b[0m\n\u001b[0;32m      6\u001b[0m \u001b[1;31m#    dictionary[player.current_room.id] = {d: \"?\"}\u001b[0m\u001b[1;33m\u001b[0m\u001b[1;33m\u001b[0m\u001b[1;33m\u001b[0m\u001b[0m\n",
      "\u001b[1;31mTypeError\u001b[0m: 'list' object cannot be interpreted as an integer"
     ]
    }
   ],
   "source": [
    "#dictionary = {player.current_room.id: {player.current_room.get_exits()}}\n",
    "dictionary = {}\n",
    "dictionary[player.current_room.id] = {}\n",
    "for d in range(player.current_room.get_exits()):\n",
    "    print(d)\n",
    "#    dictionary[player.current_room.id] = {d: \"?\"}"
   ]
  },
  {
   "cell_type": "code",
   "execution_count": 43,
   "metadata": {},
   "outputs": [
    {
     "data": {
      "text/plain": [
       "2"
      ]
     },
     "execution_count": 43,
     "metadata": {},
     "output_type": "execute_result"
    }
   ],
   "source": [
    "len(player.current_room.get_exits())"
   ]
  },
  {
   "cell_type": "code",
   "execution_count": 41,
   "metadata": {},
   "outputs": [],
   "source": [
    "dictionary[7] = exits"
   ]
  },
  {
   "cell_type": "code",
   "execution_count": 42,
   "metadata": {},
   "outputs": [
    {
     "data": {
      "text/plain": [
       "{7: ['w', 'e']}"
      ]
     },
     "execution_count": 42,
     "metadata": {},
     "output_type": "execute_result"
    }
   ],
   "source": [
    "dictionary"
   ]
  },
  {
   "cell_type": "markdown",
   "metadata": {},
   "source": [
    "Start by writing an algorithm that picks a random unexplored direction from the player's current room, travels and logs that direction, then loops. This should cause your player to walk a depth-first traversal. When you reach a dead-end (i.e. a room with no unexplored paths), walk back to the nearest room that does contain an unexplored path."
   ]
  },
  {
   "cell_type": "code",
   "execution_count": 57,
   "metadata": {},
   "outputs": [],
   "source": [
    "class Stack():\n",
    "    def __init__(self):\n",
    "        self.stack = []\n",
    "    def push(self, value):\n",
    "        self.stack.append(value)\n",
    "    def pop(self):\n",
    "        if self.size() > 0:\n",
    "            return self.stack.pop()\n",
    "        else:\n",
    "            return None\n",
    "    def size(self):\n",
    "        return len(self.stack)"
   ]
  },
  {
   "cell_type": "code",
   "execution_count": 91,
   "metadata": {},
   "outputs": [
    {
     "ename": "SyntaxError",
     "evalue": "invalid syntax (<ipython-input-91-fb8bacb6e630>, line 22)",
     "output_type": "error",
     "traceback": [
      "\u001b[1;36m  File \u001b[1;32m\"<ipython-input-91-fb8bacb6e630>\"\u001b[1;36m, line \u001b[1;32m22\u001b[0m\n\u001b[1;33m    travel = player.travel(reverse_path{exits})\u001b[0m\n\u001b[1;37m                                       ^\u001b[0m\n\u001b[1;31mSyntaxError\u001b[0m\u001b[1;31m:\u001b[0m invalid syntax\n"
     ]
    }
   ],
   "source": [
    "# dft \n",
    "def dft(current_room):\n",
    "    current_room = player.current_room.id\n",
    "    print(current_room)\n",
    "    # store the id\n",
    "    s = Stack()\n",
    "    s.push(player.current_room.id)\n",
    "    dictionary = {}\n",
    "    while s.size() > 0:\n",
    "        room = s.pop()\n",
    "        exits = player.current_room.get_exits()\n",
    "        print(exits)\n",
    "        if len(exits) > 1:\n",
    "            direct = random.choice(exits)\n",
    "            print(direct)\n",
    "            travel = player.travel(direct)\n",
    "            print(travel)\n",
    "        # if the length of exits is exactly one, however,\n",
    "        # we move in that direction\n",
    "        if len(exits)==1:\n",
    "            # we move the player in that direction\n",
    "            travel = player.travel(reverse_path(exits))\n",
    "            print(travel)\n",
    "#            dictionary[player.current_room.id] = (travel)\n",
    "#    exits = player.current_room.get_exits()\n",
    "# move the player \n",
    "\n",
    "#if len(exits) > 1:\n",
    "    # random unexplored direction\n",
    "    # maybe include a while loop that takes into account for the exits that have already been visited\n",
    "    #    while exits\n",
    "  #  direct = random.choice(exits)\n",
    "    # move the player\n",
    " #   player.travel(direct)\n",
    "    # move the player in that direction.\n",
    "    # update the value of that direction with the id of the previous room:\n",
    "   # player.\n",
    "    # write a for loop for the nested dictionary for each direction?\n",
    " #   for d in range(player.current_room.get_exits()):\n",
    "  #      dictionary[player.current_room.id] = {d: \"?\"}\n",
    "   #     player.current_room.get_exits()\n",
    "\n",
    "        # get exits\n"
   ]
  },
  {
   "cell_type": "code",
   "execution_count": 92,
   "metadata": {},
   "outputs": [
    {
     "name": "stdout",
     "output_type": "stream",
     "text": [
      "8\n",
      "['e']\n"
     ]
    },
    {
     "ename": "TypeError",
     "evalue": "'dict' object is not callable",
     "output_type": "error",
     "traceback": [
      "\u001b[1;31m---------------------------------------------------------------------------\u001b[0m",
      "\u001b[1;31mTypeError\u001b[0m                                 Traceback (most recent call last)",
      "\u001b[1;32m<ipython-input-92-452838601b99>\u001b[0m in \u001b[0;36m<module>\u001b[1;34m\u001b[0m\n\u001b[1;32m----> 1\u001b[1;33m \u001b[0mdft\u001b[0m\u001b[1;33m(\u001b[0m\u001b[1;36m0\u001b[0m\u001b[1;33m)\u001b[0m\u001b[1;33m\u001b[0m\u001b[1;33m\u001b[0m\u001b[0m\n\u001b[0m",
      "\u001b[1;32m<ipython-input-89-bf88a23b1c96>\u001b[0m in \u001b[0;36mdft\u001b[1;34m(current_room)\u001b[0m\n\u001b[0;32m     20\u001b[0m         \u001b[1;32mif\u001b[0m \u001b[0mlen\u001b[0m\u001b[1;33m(\u001b[0m\u001b[0mexits\u001b[0m\u001b[1;33m)\u001b[0m\u001b[1;33m==\u001b[0m\u001b[1;36m1\u001b[0m\u001b[1;33m:\u001b[0m\u001b[1;33m\u001b[0m\u001b[1;33m\u001b[0m\u001b[0m\n\u001b[0;32m     21\u001b[0m             \u001b[1;31m# we move the player in that direction\u001b[0m\u001b[1;33m\u001b[0m\u001b[1;33m\u001b[0m\u001b[1;33m\u001b[0m\u001b[0m\n\u001b[1;32m---> 22\u001b[1;33m             \u001b[0mtravel\u001b[0m \u001b[1;33m=\u001b[0m \u001b[0mplayer\u001b[0m\u001b[1;33m.\u001b[0m\u001b[0mtravel\u001b[0m\u001b[1;33m(\u001b[0m\u001b[0mreverse_path\u001b[0m\u001b[1;33m(\u001b[0m\u001b[0mexits\u001b[0m\u001b[1;33m)\u001b[0m\u001b[1;33m)\u001b[0m\u001b[1;33m\u001b[0m\u001b[1;33m\u001b[0m\u001b[0m\n\u001b[0m\u001b[0;32m     23\u001b[0m             \u001b[0mprint\u001b[0m\u001b[1;33m(\u001b[0m\u001b[0mtravel\u001b[0m\u001b[1;33m)\u001b[0m\u001b[1;33m\u001b[0m\u001b[1;33m\u001b[0m\u001b[0m\n\u001b[0;32m     24\u001b[0m \u001b[1;31m#            dictionary[player.current_room.id] = (travel)\u001b[0m\u001b[1;33m\u001b[0m\u001b[1;33m\u001b[0m\u001b[1;33m\u001b[0m\u001b[0m\n",
      "\u001b[1;31mTypeError\u001b[0m: 'dict' object is not callable"
     ]
    }
   ],
   "source": [
    "dft(0)"
   ]
  },
  {
   "cell_type": "code",
   "execution_count": 84,
   "metadata": {},
   "outputs": [],
   "source": [
    "# now we need reverse directions:\n",
    "reverse_path = {\"s\": \"n\", \"n\": \"s\", \"w\":\"e\", \"e\":\"W\"}\n"
   ]
  },
  {
   "cell_type": "code",
   "execution_count": null,
   "metadata": {},
   "outputs": [],
   "source": []
  }
 ],
 "metadata": {
  "kernelspec": {
   "display_name": "Python 3",
   "language": "python",
   "name": "python3"
  },
  "language_info": {
   "codemirror_mode": {
    "name": "ipython",
    "version": 3
   },
   "file_extension": ".py",
   "mimetype": "text/x-python",
   "name": "python",
   "nbconvert_exporter": "python",
   "pygments_lexer": "ipython3",
   "version": "3.7.3"
  }
 },
 "nbformat": 4,
 "nbformat_minor": 2
}
