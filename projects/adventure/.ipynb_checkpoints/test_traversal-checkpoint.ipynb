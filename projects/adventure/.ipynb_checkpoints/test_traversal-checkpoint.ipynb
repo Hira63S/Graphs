{
 "cells": [
  {
   "cell_type": "code",
   "execution_count": 1,
   "metadata": {},
   "outputs": [],
   "source": [
    "from room import Room\n",
    "from player import Player\n",
    "from world import World\n",
    "\n",
    "import random\n",
    "from ast import literal_eval\n",
    "from room import Room\n",
    "import random\n",
    "import math\n"
   ]
  },
  {
   "cell_type": "code",
   "execution_count": 2,
   "metadata": {},
   "outputs": [],
   "source": [
    "world = World()"
   ]
  },
  {
   "cell_type": "code",
   "execution_count": 3,
   "metadata": {},
   "outputs": [],
   "source": [
    "map_file = \"maps/main_maze.txt\""
   ]
  },
  {
   "cell_type": "code",
   "execution_count": 4,
   "metadata": {},
   "outputs": [],
   "source": [
    "class Stack():\n",
    "    def __init__(self):\n",
    "        self.stack = []\n",
    "    def push(self, value):\n",
    "        self.stack.append(value)\n",
    "    def pop(self):\n",
    "        if self.size() > 0:\n",
    "            return self.stack.pop()\n",
    "        else:\n",
    "            return None\n",
    "    def size(self):\n",
    "        return len(self.stack)"
   ]
  },
  {
   "cell_type": "code",
   "execution_count": 5,
   "metadata": {},
   "outputs": [
    {
     "name": "stdout",
     "output_type": "stream",
     "text": [
      "#####\n",
      "#                                                                                                                                                           #\n",
      "#                                                        434       497--366--361  334--384--435  476                                                        #\n",
      "#                                                         |                   |    |              |                                                         #\n",
      "#                                                         |                   |    |              |                                                         #\n",
      "#                                              477--443  425            386--354--321  338  313  380--445--446                                              #\n",
      "#                                                    |    |              |         |    |    |    |    |                                                    #\n",
      "#                                                    |    |              |         |    |    |    |    |                                                    #\n",
      "#                                                   408  350  483  385  388  285  304  278  287--353  480                                                   #\n",
      "#                                                    |    |    |    |    |    |    |    |    |                                                              #\n",
      "#                                                    |    |    |    |    |    |    |    |    |                                                              #\n",
      "#                                    442  461  426  392--281  223--169  257  253  240  196--224  255  373                                                   #\n",
      "#                                     |    |    |         |         |    |    |    |    |         |    |                                                    #\n",
      "#                                     |    |    |         |         |    |    |    |    |         |    |                                                    #\n",
      "#                                    417  422--394--318--199--197--165--163--228  233--152  192--239--336--421                                              #\n",
      "#                                     |              |                   |              |    |                                                              #\n",
      "#                                     |              |                   |              |    |                                                              #\n",
      "#                          491  453--351  444  374--340  328--200--204  148--178  143  147--154--184  282  363  389                                         #\n",
      "#                           |         |    |                   |         |         |    |              |    |    |                                          #\n",
      "#                           |         |    |                   |         |         |    |              |    |    |                                          #\n",
      "#                          489  441  332  387  341--316  195  175--141  121--123--138--139--176  136--231--294--311--499                                    #\n",
      "#                           |    |    |    |         |    |         |    |                        |                                                         #\n",
      "#                           |    |    |    |         |    |         |    |                        |                                                         #\n",
      "#                     396--391  319  295  331  307  292--185--155  107  111--114--120  172  146  109  186--262--390--398                                    #\n",
      "#                           |    |    |    |    |              |    |    |              |    |    |    |              |                                     #\n",
      "#                           |    |    |    |    |              |    |    |              |    |    |    |              |                                     #\n",
      "#           452--428--411--324--289--250  277  208--166  140  082  102--064  101  093  132  086--095  098  245--343  487                                    #\n",
      "#                 |                   |    |         |    |    |         |    |    |    |    |         |    |                                               #\n",
      "#                 |                   |    |         |    |    |         |    |    |    |    |         |    |                                               #\n",
      "#           451--429  397  357--342--221--174  210  161  063--061  033  060  091  051  073  084  078--090--142  381--431                                    #\n",
      "#                      |                   |    |    |         |    |    |    |    |    |    |    |              |                                          #\n",
      "#                      |                   |    |    |         |    |    |    |    |    |    |    |              |                                          #\n",
      "#      492--400--399--358  352  297--207  124--112--106--079--046--017--028  037--042  056--067  075--088--125--238--293                                    #\n",
      "#                      |    |         |                             |    |    |         |         |    |    |                                               #\n",
      "#                      |    |         |                             |    |    |         |         |    |    |                                               #\n",
      "#           414--365--333--303  171--168--137  085  074  032  047--014  030  031  027--055  048--053  103  198--270--300--320                               #\n",
      "#                 |         |              |    |    |    |         |         |    |         |                             |                                #\n",
      "#                 |         |              |    |    |    |         |         |    |         |                             |                                #\n",
      "#                447  301--187--167--108--081--045--040--019--015--013--009  020--026  035--044--059--189--275--283--376  471                               #\n",
      "#                                          |                             |    |         |                             |                                     #\n",
      "#                                          |                             |    |         |                             |                                     #\n",
      "#                436  470  227--194--128--092  069--041--036--021  004  007--012--018--034--039--071--150--251  325  468                                    #\n",
      "#                 |    |              |    |    |    |         |    |    |         |         |    |              |                                          #\n",
      "#                 |    |              |    |    |    |         |    |    |         |         |    |              |                                          #\n",
      "#           465--368--284--254--205--162  100  072  076  011--003--000--001--022  024--025  052  115--160--214--246--412                                    #\n",
      "#                      |                        |         |         |    |         |    |                                                                   #\n",
      "#                      |                        |         |         |    |         |    |                                                                   #\n",
      "#           479--418--349  274--222--190--129  089  083--080  016--008  002--010  029  043--049--119--131--329--407                                         #\n",
      "#                 |                        |    |    |                   |    |    |    |         |                                                         #\n",
      "#                 |                        |    |    |                   |    |    |    |         |                                                         #\n",
      "#                463--458  379  226--225--105--104  099  058--023--006--005  038  054  077--130  219--305--330--454                                         #\n",
      "#                      |    |    |              |    |         |    |    |                        |         |                                               #\n",
      "#                      |    |    |              |    |         |    |    |                        |         |                                               #\n",
      "#           486--462  359  266--260  235--158--126  122  068--057  062  050--070--087  182--211  242  326  348                                              #\n",
      "#                 |    |                   |    |              |    |    |    |    |    |    |    |    |                                                    #\n",
      "#                 |    |                   |    |              |    |    |    |    |    |    |    |    |                                                    #\n",
      "#                367--344--230  243  180--164  135  145--113--094  065  066  116  117--170  248  286--288--498                                              #\n",
      "#                           |    |              |    |         |    |    |    |    |         |    |                                                         #\n",
      "#                           |    |              |    |         |    |    |    |    |         |    |                                                         #\n",
      "#                339--314--220--215--177--156--149  183  153--097  134  096  159  127--173  272  309--377--456                                              #\n",
      "#                 |                        |    |              |    |    |         |    |         |                                                         #\n",
      "#                 |                        |    |              |    |    |         |    |         |                                                         #\n",
      "#           482--404  258--236--216--213--209  191  188  157--110  144  179--201  212  202--249  371--430--440                                              #\n",
      "#            |              |         |         |    |         |    |    |    |    |    |                                                                   #\n",
      "#            |              |         |         |    |         |    |    |    |    |    |                                                                   #\n",
      "#           484  433--372--263  271--217  241--193  151--133--118--218  181  206  229  267--302--402--403--439                                              #\n",
      "#                           |    |         |    |         |         |         |    |                                                                        #\n",
      "#                           |    |         |    |         |         |         |    |                                                                        #\n",
      "#      494--457--355--312--299  310  327--256  203  247--234--259  252  244--232  237--370  364--401--427--474                                              #\n",
      "#                      |    |         |    |    |    |    |    |    |    |    |              |    |    |                                                    #\n",
      "#                      |    |         |    |    |    |    |    |    |    |    |              |    |    |                                                    #\n",
      "#                437--347  356  469--362  279  269  369  280  291  261  264  265--273--298--360  420  438                                                   #\n",
      "#                      |    |         |    |    |              |    |    |    |    |              |    |                                                    #\n",
      "#                      |    |         |    |    |              |    |    |    |    |              |    |                                                    #\n",
      "#                393--375  405  423--395  323  315--335--378  306  345  290  268  296--308--337  464  448--490                                              #\n",
      "#                      |    |                   |    |    |    |    |         |    |    |    |         |                                                    #\n",
      "#                      |    |                   |    |    |    |    |         |    |    |    |         |                                                    #\n",
      "#           493--478--413  432--473       410--406  346  466  415  409  322--276  382  317  383       475                                                   #\n",
      "#                      |    |                             |         |    |    |    |    |    |         |                                                    #\n",
      "#                      |    |                             |         |    |    |    |    |    |         |                                                    #\n",
      "#                     419  449--450                      472--495  488  424  459  455  416  460       496                                                   #\n",
      "#                                                         |                   |                                                                             #\n",
      "#                                                         |                   |                                                                             #\n",
      "#                                                   485--481                 467                                                                            #\n",
      "#                                                                                                                                                           #\n",
      "\n",
      "#####\n"
     ]
    }
   ],
   "source": [
    "room_graph=literal_eval(open(map_file, \"r\").read())\n",
    "world.load_graph(room_graph)\n",
    "\n",
    "# Print an ASCII map\n",
    "world.print_rooms()\n",
    "\n",
    "player = Player(world.starting_room)"
   ]
  },
  {
   "cell_type": "code",
   "execution_count": 6,
   "metadata": {},
   "outputs": [],
   "source": [
    "# player.travel(random.choice(exits))\n",
    "# player.current_room.id"
   ]
  },
  {
   "cell_type": "code",
   "execution_count": 7,
   "metadata": {},
   "outputs": [],
   "source": [
    "player = Player(world.starting_room)"
   ]
  },
  {
   "cell_type": "code",
   "execution_count": 7,
   "metadata": {},
   "outputs": [
    {
     "data": {
      "text/plain": [
       "0"
      ]
     },
     "execution_count": 7,
     "metadata": {},
     "output_type": "execute_result"
    }
   ],
   "source": [
    "player.current_room.id"
   ]
  },
  {
   "cell_type": "code",
   "execution_count": 8,
   "metadata": {},
   "outputs": [
    {
     "data": {
      "text/plain": [
       "['n', 's', 'w', 'e']"
      ]
     },
     "execution_count": 8,
     "metadata": {},
     "output_type": "execute_result"
    }
   ],
   "source": [
    "player.current_room.get_exits()"
   ]
  },
  {
   "cell_type": "code",
   "execution_count": 16,
   "metadata": {},
   "outputs": [],
   "source": [
    "# visited_rooms[player.current_room.id] = player.current_room.get_exits()"
   ]
  },
  {
   "cell_type": "code",
   "execution_count": 26,
   "metadata": {},
   "outputs": [
    {
     "name": "stdout",
     "output_type": "stream",
     "text": [
      "n\n"
     ]
    }
   ],
   "source": [
    "last_move = path_traveled[-1]\n",
    "print(last_move)\n",
    "\n",
    "visited_rooms[player.current_room.id].remove(last_move)"
   ]
  },
  {
   "cell_type": "code",
   "execution_count": 28,
   "metadata": {},
   "outputs": [],
   "source": [
    "# print(visited_rooms)"
   ]
  },
  {
   "cell_type": "code",
   "execution_count": null,
   "metadata": {},
   "outputs": [],
   "source": [
    "# dft \n",
    "player = Player(world.starting_room)\n",
    "reverse_directions = {'s':'n', 'n':'s', 'w':'e', 'e':'w'}\n",
    "path_traveled = []\n",
    "traversal_path = []\n",
    "visited_rooms = {}\n",
    "\n",
    "visited_rooms[0] = player.current_room.get_exits()\n",
    "# from room 0, we can go in all 4 directions \n",
    "print(visited_rooms)\n",
    "\n",
    "# print(len(room_graph))\n",
    "while len(visited_rooms) < len(room_graph)-1:     # the index kills me, starts at 0\n",
    "    \n",
    "    if player.current_room.id not in visited_rooms:\n",
    "        visited_rooms[player.current_room.id] = player.current_room.get_exits()\n",
    "\n",
    "#        exits = player.current_room.get_exits()\n",
    " #       direction = random.choice(exits)\n",
    "        # path_traveled.append(direction)\n",
    "        \n",
    "        # print(path_traveled)\n",
    "        # now the last direction from path_t|raveled\n",
    "        \n",
    "        last_move = path_traveled[-1]\n",
    " #       print(last_move)\n",
    "        # remove this direction from the exits so that the stupid player would not move there anymore\n",
    "        visited_rooms[player.current_room.id].remove(last_move)\n",
    "        print(visited_rooms)\n",
    "        print(path_traveled)\n",
    "    \n",
    "        # let's do a search algorithm\n",
    "        # while the visited rooms have all the ids in there. \n",
    "    # after we have added all the rooms\n",
    "    #    while len(visited_rooms) == len(room_graph)-1:\n",
    "            # we already have a traversal_path q \n",
    "            # soooo we enqueue the first exit\n",
    "     #       player.current_room.get_exits().\n",
    "#        print(len(visited_rooms))\n",
    "        # it adds the one id and exits in the dictionary \n",
    "        # now, let's move the player\n",
    "  #      print(player.current_room.id)\n",
    "        # it is not getting added to visitted_room...why?\n",
    " #       for exits in player.current_room.get_exits():\n",
    "  #          direction = random.choice(exits)\n",
    "   #         if direction not in path_traveled:\n",
    "    #            path_traveled.append(direction)\n",
    "     #           print(path_traveled)\n",
    "      #      traversal_path.append(direction)\n",
    "#        player.travel(random.choice(player.current_room.get_exits()))\n",
    "#        path_traveled.append(player.travel(random.choice(player.current_room.get_exits)))\n",
    "#        print(path_traveled)\n",
    "        # when we do random choice, it goes right back to the path it traveled from\n",
    "        # well, sometimes\n",
    "        # how do we make it so that it does not go back to the room it traveled from?\n",
    "        break"
   ]
  },
  {
   "cell_type": "code",
   "execution_count": 159,
   "metadata": {},
   "outputs": [],
   "source": [
    "# dft \n",
    "reverse_path = {'s':'n', 'n':'s', 'w':'e', 'e':'w'}\n",
    "path_traveled = []\n",
    "traversal_path = []\n",
    "visited_rooms = {}\n",
    "\n",
    "while len(visited_rooms) < len(room_graph)-1:     # the index kills me, starts at 0\n",
    "    visited_rooms[player.current_room.id] = {player.current_room.get_exits()}\n",
    "    \n",
    "def dft(current_room):\n",
    "    current_room = player.current_room.id\n",
    "    print(current_room)\n",
    "    # store the id\n",
    "    s = Stack()\n",
    "    s.push(player.current_room.id)\n",
    "    dictionary = {}\n",
    "    while s.size() > 0:\n",
    "        room = s.pop()\n",
    "        exits = player.current_room.get_exits()\n",
    "        print(exits)\n",
    "        if len(exits)==1:\n",
    "            # we move the player in that direction\n",
    "            travel = player.travel(exits)\n",
    "            print(player.current_room.id)\n",
    "            path_traveled.append(travel)\n",
    "        if len(exits) > 1:\n",
    "            direct = random.choice(exits)\n",
    "            print(direct)\n",
    "            travel = player.travel(direct)\n",
    "            path_traveled.append(travel)\n",
    "   #         print(travel)\n",
    "            for neighbors in player.current_room.get_exits():\n",
    "                s.push(neighbors)\n",
    "                \n",
    "        # if the length of exits is exactly one, however,\n",
    "        # we move in that direction\n",
    "\n",
    "            \n",
    "            \n",
    "#            dictionary[player.current_room.id] = (travel)\n",
    "#    exits = player.current_room.get_exits()\n",
    "# move the player \n",
    "\n",
    "#if len(exits) > 1:\n",
    "    # random unexplored direction\n",
    "    # maybe include a while loop that takes into account for the exits that have already been visited\n",
    "    #    while exits\n",
    "  #  direct = random.choice(exits)\n",
    "    # move the player\n",
    " #   player.travel(direct)\n",
    "    # move the player in that direction.\n",
    "    # update the value of that direction with the id of the previous room:\n",
    "   # player.\n",
    "    # write a for loop for the nested dictionary for each direction?\n",
    " #   for d in range(player.current_room.get_exits()):\n",
    "  #      dictionary[player.current_room.id] = {d: \"?\"}\n",
    "   #     player.current_room.get_exits()\n",
    "\n",
    "        # get exits\n"
   ]
  },
  {
   "cell_type": "code",
   "execution_count": 160,
   "metadata": {},
   "outputs": [
    {
     "name": "stdout",
     "output_type": "stream",
     "text": [
      "4\n",
      "['w']\n",
      "You cannot move in that direction.\n",
      "4\n"
     ]
    }
   ],
   "source": [
    "dft(0)"
   ]
  },
  {
   "cell_type": "raw",
   "metadata": {},
   "source": [
    "# now we need reverse directions:\n",
    "# TRAVERSAL TEST\n",
    "visited_rooms = set()\n",
    "player.current_room = world.starting_room\n",
    "visited_rooms.add(player.current_room)\n",
    "\n",
    "for move in traversal_path:\n",
    "    player.travel(move)\n",
    "    visited_rooms.add(player.current_room)\n",
    "\n",
    "if len(visited_rooms) == len(room_graph):\n",
    "    print(f\"TESTS PASSED: {len(traversal_path)} moves, {len(visited_rooms)} rooms visited\")\n",
    "else:\n",
    "    print(\"TESTS FAILED: INCOMPLETE TRAVERSAL\")\n",
    "    print(f\"{len(room_graph) - len(visited_rooms)} unvisited rooms\")\n",
    "\n",
    "\n",
    "\n",
    "#######\n",
    "# UNCOMMENT TO WALK AROUND\n",
    "#######\n",
    "player.current_room.print_room_description(player)\n",
    "while True:\n",
    "    cmds = input(\"-> \").lower().split(\" \")\n",
    "    if cmds[0] in [\"n\", \"s\", \"e\", \"w\"]:\n",
    "        player.travel(cmds[0], True)\n",
    "    elif cmds[0] == \"q\":\n",
    "        break\n",
    "    else:\n",
    "        print(\"I did not understand that command.\")\n",
    "\n"
   ]
  },
  {
   "cell_type": "code",
   "execution_count": null,
   "metadata": {},
   "outputs": [
    {
     "name": "stdout",
     "output_type": "stream",
     "text": [
      "{0: ['n', 's', 'w', 'e']}\n"
     ]
    }
   ],
   "source": [
    "# dft \n",
    "player = Player(world.starting_room)\n",
    "reverse_directions = {'s':'n', 'n':'s', 'w':'e', 'e':'w'}\n",
    "path_traveled = []\n",
    "traversal_path = []\n",
    "visited_rooms = {}\n",
    "\n",
    "visited_rooms[0] = player.current_room.get_exits()\n",
    "# from room 0, we can go in all 4 directions \n",
    "print(visited_rooms)\n",
    "\n",
    "# print(len(room_graph))\n",
    "while len(visited_rooms) < len(room_graph)-1:     # the index kills me, starts at 0\n",
    "    \n",
    "    if player.current_room.id not in visited_rooms:\n",
    "        visited_rooms[player.current_room.id] = player.current_room.get_exits()\n",
    "\n",
    "#        exits = player.current_room.get_exits()\n",
    " #       direction = random.choice(exits)\n",
    "        # path_traveled.append(direction)\n",
    "        \n",
    "        # print(path_traveled)\n",
    "        # now the last direction from path_t|raveled\n",
    "        \n",
    "        last_move = path_traveled[-1]\n",
    " #       print(last_move)\n",
    "        # remove this direction from the exits so that the stupid player would not move there anymore\n",
    "        visited_rooms[player.current_room.id].remove(last_move)\n",
    "        print(visited_rooms)\n",
    "        print(path_traveled)\n",
    "\n",
    "    while len(visited_rooms[player.current_room.id]) < 1:\n",
    "        # get the last_direction\n",
    "        reversal = path_traveled.pop()\n",
    "        # we will want to put that in traversal path to keep track of moves we need to makes\n",
    "        traversal_path.append(reversal)\n",
    "        # then, we move in that direction\n",
    "        player.travel(reversal)\n",
    "\n",
    "moving_dir = visited_rooms[player.current_room.id].pop(0)\n",
    "traversal_path.append(moving_dir)\n",
    "path_traveled.append(reverse_directions[moving_dir])\n",
    "player.travel(moving_dir)"
   ]
  },
  {
   "cell_type": "code",
   "execution_count": null,
   "metadata": {},
   "outputs": [],
   "source": []
  }
 ],
 "metadata": {
  "kernelspec": {
   "display_name": "Python 3",
   "language": "python",
   "name": "python3"
  },
  "language_info": {
   "codemirror_mode": {
    "name": "ipython",
    "version": 3
   },
   "file_extension": ".py",
   "mimetype": "text/x-python",
   "name": "python",
   "nbconvert_exporter": "python",
   "pygments_lexer": "ipython3",
   "version": "3.7.3"
  }
 },
 "nbformat": 4,
 "nbformat_minor": 2
}
