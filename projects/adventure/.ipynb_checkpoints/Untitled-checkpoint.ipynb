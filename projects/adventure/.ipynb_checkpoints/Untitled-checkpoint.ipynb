{
 "cells": [
  {
   "cell_type": "code",
   "execution_count": 1,
   "metadata": {},
   "outputs": [],
   "source": [
    "from room import Room\n",
    "from player import Player\n",
    "from world import World\n",
    "\n",
    "import random\n",
    "from ast import literal_eval\n",
    "from room import Room\n",
    "import random\n",
    "import math\n"
   ]
  },
  {
   "cell_type": "code",
   "execution_count": 2,
   "metadata": {},
   "outputs": [],
   "source": [
    "world = World()"
   ]
  },
  {
   "cell_type": "code",
   "execution_count": 3,
   "metadata": {},
   "outputs": [],
   "source": [
    "map_file = \"maps/test_cross.txt\""
   ]
  },
  {
   "cell_type": "code",
   "execution_count": 4,
   "metadata": {},
   "outputs": [
    {
     "name": "stdout",
     "output_type": "stream",
     "text": [
      "#####\n",
      "#                                        #\n",
      "#                002                     #\n",
      "#                 |                      #\n",
      "#                 |                      #\n",
      "#                001                     #\n",
      "#                 |                      #\n",
      "#                 |                      #\n",
      "#      008--007--000--003--004           #\n",
      "#                 |                      #\n",
      "#                 |                      #\n",
      "#                005                     #\n",
      "#                 |                      #\n",
      "#                 |                      #\n",
      "#                006                     #\n",
      "#                                        #\n",
      "\n",
      "#####\n"
     ]
    }
   ],
   "source": [
    "room_graph=literal_eval(open(map_file, \"r\").read())\n",
    "world.load_graph(room_graph)\n",
    "\n",
    "# Print an ASCII map\n",
    "world.print_rooms()\n",
    "\n",
    "player = Player(world.starting_room)"
   ]
  },
  {
   "cell_type": "code",
   "execution_count": 6,
   "metadata": {},
   "outputs": [],
   "source": [
    "# supposed to have:\n",
    "# traversal_path = ['n', 'n']\n",
    "\n",
    "traversal_path = []\n",
    "\n",
    "# so everytime we go to a room that has not been visited and we change the label of \n",
    "# one of it's directions to \"?\", we store that direcction move in the traversal_path\n",
    "# soooo....we could have as many as 1000 traversals\n",
    "\n",
    "# NOW, we limit the number of traversal with BFS and DFT\n",
    "\n"
   ]
  },
  {
   "cell_type": "code",
   "execution_count": 7,
   "metadata": {},
   "outputs": [
    {
     "name": "stdout",
     "output_type": "stream",
     "text": [
      "TESTS FAILED: INCOMPLETE TRAVERSAL\n",
      "8 unvisited rooms\n",
      "\n",
      "-------------------\n",
      "\n",
      "Room 0\n",
      "\n",
      "   (3,5)\n",
      "\n",
      "Exits: [n, s, w, e]\n",
      "\n"
     ]
    },
    {
     "name": "stdin",
     "output_type": "stream",
     "text": [
      "->  n\n"
     ]
    },
    {
     "name": "stdout",
     "output_type": "stream",
     "text": [
      "\n",
      "-------------------\n",
      "\n",
      "Room 1\n",
      "\n",
      "   (3,6)\n",
      "\n",
      "Exits: [n, s]\n",
      "\n"
     ]
    },
    {
     "name": "stdin",
     "output_type": "stream",
     "text": [
      "->  s\n"
     ]
    },
    {
     "name": "stdout",
     "output_type": "stream",
     "text": [
      "\n",
      "-------------------\n",
      "\n",
      "Room 0\n",
      "\n",
      "   (3,5)\n",
      "\n",
      "Exits: [n, s, w, e]\n",
      "\n"
     ]
    },
    {
     "name": "stdin",
     "output_type": "stream",
     "text": [
      "->  w\n"
     ]
    },
    {
     "name": "stdout",
     "output_type": "stream",
     "text": [
      "\n",
      "-------------------\n",
      "\n",
      "Room 7\n",
      "\n",
      "   (2,5)\n",
      "\n",
      "Exits: [w, e]\n",
      "\n"
     ]
    },
    {
     "name": "stdin",
     "output_type": "stream",
     "text": [
      "->  c\\\n"
     ]
    },
    {
     "name": "stdout",
     "output_type": "stream",
     "text": [
      "I did not understand that command.\n"
     ]
    },
    {
     "name": "stdin",
     "output_type": "stream",
     "text": [
      "->  q\n"
     ]
    }
   ],
   "source": [
    "# TRAVERSAL TEST\n",
    "visited_rooms = set()\n",
    "player.current_room = world.starting_room\n",
    "visited_rooms.add(player.current_room)\n",
    "\n",
    "for move in traversal_path:\n",
    "    player.travel(move)\n",
    "    visited_rooms.add(player.current_room)\n",
    "\n",
    "if len(visited_rooms) == len(room_graph):\n",
    "    print(f\"TESTS PASSED: {len(traversal_path)} moves, {len(visited_rooms)} rooms visited\")\n",
    "else:\n",
    "    print(\"TESTS FAILED: INCOMPLETE TRAVERSAL\")\n",
    "    print(f\"{len(room_graph) - len(visited_rooms)} unvisited rooms\")\n",
    "\n",
    "\n",
    "\n",
    "#######\n",
    "# UNCOMMENT TO WALK AROUND\n",
    "#######\n",
    "player.current_room.print_room_description(player)\n",
    "while True:\n",
    "    cmds = input(\"-> \").lower().split(\" \")\n",
    "    if cmds[0] in [\"n\", \"s\", \"e\", \"w\"]:\n",
    "        player.travel(cmds[0], True)\n",
    "    elif cmds[0] == \"q\":\n",
    "        break\n",
    "    else:\n",
    "        print(\"I did not understand that command.\")\n",
    "\n"
   ]
  },
  {
   "cell_type": "code",
   "execution_count": 34,
   "metadata": {},
   "outputs": [
    {
     "data": {
      "text/plain": [
       "['w', 'e']"
      ]
     },
     "execution_count": 34,
     "metadata": {},
     "output_type": "execute_result"
    }
   ],
   "source": [
    "player.current_room.get_exits()\n"
   ]
  },
  {
   "cell_type": "code",
   "execution_count": 33,
   "metadata": {},
   "outputs": [],
   "source": [
    "player.travel('e')"
   ]
  },
  {
   "cell_type": "code",
   "execution_count": 20,
   "metadata": {},
   "outputs": [
    {
     "data": {
      "text/plain": [
       "['e']"
      ]
     },
     "execution_count": 20,
     "metadata": {},
     "output_type": "execute_result"
    }
   ],
   "source": [
    "player.current_room.get_exits()"
   ]
  },
  {
   "cell_type": "code",
   "execution_count": 19,
   "metadata": {},
   "outputs": [
    {
     "data": {
      "text/plain": [
       "8"
      ]
     },
     "execution_count": 19,
     "metadata": {},
     "output_type": "execute_result"
    }
   ],
   "source": [
    "player.current_room.id"
   ]
  },
  {
   "cell_type": "code",
   "execution_count": 44,
   "metadata": {},
   "outputs": [],
   "source": [
    "#dictionary = {player.current_room.id: {player.current_room.get_exits()}}\n",
    "dictionary = {}\n",
    "dictionary[player.current_room.id] = {}\n",
    "for d in range(player.current_room.get_exits()):\n",
    "    dictionary[player.current_room.id] = {d: \"?\"}"
   ]
  },
  {
   "cell_type": "code",
   "execution_count": 43,
   "metadata": {},
   "outputs": [
    {
     "data": {
      "text/plain": [
       "2"
      ]
     },
     "execution_count": 43,
     "metadata": {},
     "output_type": "execute_result"
    }
   ],
   "source": [
    "len(player.current_room.get_exits())"
   ]
  },
  {
   "cell_type": "code",
   "execution_count": 41,
   "metadata": {},
   "outputs": [],
   "source": [
    "dictionary[7] = exits"
   ]
  },
  {
   "cell_type": "code",
   "execution_count": 42,
   "metadata": {},
   "outputs": [
    {
     "data": {
      "text/plain": [
       "{7: ['w', 'e']}"
      ]
     },
     "execution_count": 42,
     "metadata": {},
     "output_type": "execute_result"
    }
   ],
   "source": [
    "dictionary"
   ]
  },
  {
   "cell_type": "markdown",
   "metadata": {},
   "source": [
    "Start by writing an algorithm that picks a random unexplored direction from the player's current room, travels and logs that direction, then loops. This should cause your player to walk a depth-first traversal. When you reach a dead-end (i.e. a room with no unexplored paths), walk back to the nearest room that does contain an unexplored path."
   ]
  },
  {
   "cell_type": "code",
   "execution_count": null,
   "metadata": {},
   "outputs": [],
   "source": [
    "# dft \n",
    "def dft(self, current_room):\n",
    "    self.current_room = player.current_room.id\n",
    "    # store the id\n",
    "    dictionary = {}\n",
    "    # write a for loop for the nested dictionary for each direction?\n",
    "    for d in range(player.current_room.get_exits()):\n",
    "        dictionary[player.current_room.id] = {d: \"?\"}\n",
    "        player.current_room.get_exits()\n",
    "\n",
    "        # get exits\n",
    "exits = player.current_room.get_exits()\n",
    "# move the player \n",
    "if len(exits) > 1:\n",
    "    # random unexplored direction\n",
    "    # maybe include a while loop that takes into account for the exits that have already been visited\n",
    "    #    while exits\n",
    "    direct = random.choice(exits)\n",
    "    # move the player\n",
    "    player.travel(direct)\n",
    "    # move the player in that direction.\n",
    "    # update the value of that direction with the id of the previous room:\n",
    "    player."
   ]
  }
 ],
 "metadata": {
  "kernelspec": {
   "display_name": "Python 3",
   "language": "python",
   "name": "python3"
  },
  "language_info": {
   "codemirror_mode": {
    "name": "ipython",
    "version": 3
   },
   "file_extension": ".py",
   "mimetype": "text/x-python",
   "name": "python",
   "nbconvert_exporter": "python",
   "pygments_lexer": "ipython3",
   "version": "3.7.3"
  }
 },
 "nbformat": 4,
 "nbformat_minor": 2
}
